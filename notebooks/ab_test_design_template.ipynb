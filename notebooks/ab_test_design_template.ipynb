{
  "cells": [
    {
      "cell_type": "markdown",
      "metadata": {},
      "source": [
        "# A/B Test Design Framework\n",
        "\n",
        "This notebook provides a framework for working through the experiment design questions.\n",
        "Fill in the values from your scenario and work through each calculation step.\n",
        "\n",
        "## Scenario Parameters\n",
        "Extract these values from the scenario narrative:\n"
      ]
    },
    {
      "cell_type": "code",
      "execution_count": null,
      "metadata": {},
      "outputs": [],
      "source": [
        "# Question 1: Business's targeted MDE (from scenario narrative)\n",
        "mde_absolute = None  # Fill in: MDE in absolute terms (e.g., 0.03 for 3 percentage points)\n",
        "mde_percentage_points = None  # Fill in: MDE in percentage points (e.g., 3.0)\n",
        "\n",
        "print(f\"MDE (absolute): {mde_absolute}\")\n",
        "print(f\"MDE (percentage points): {mde_percentage_points}%\")\n"
      ]
    },
    {
      "cell_type": "code",
      "execution_count": null,
      "metadata": {},
      "outputs": [],
      "source": [
        "# Question 2: Target conversion rate calculation\n",
        "baseline_conversion_rate = None  # Fill in: Baseline rate from scenario (e.g., 0.15 for 15%)\n",
        "target_conversion_rate = None  # Calculate: baseline + mde_absolute\n",
        "\n",
        "# Your calculation here:\n",
        "# target_conversion_rate = baseline_conversion_rate + mde_absolute\n",
        "\n",
        "print(f\"Baseline conversion rate: {baseline_conversion_rate:.1%}\")\n",
        "print(f\"Target conversion rate: {target_conversion_rate:.1%}\")\n"
      ]
    },
    {
      "cell_type": "code",
      "execution_count": null,
      "metadata": {},
      "outputs": [],
      "source": [
        "# Question 3: Relative lift calculation\n",
        "relative_lift_pct = None  # Calculate: (mde_absolute / baseline_conversion_rate) * 100\n",
        "\n",
        "# Your calculation here:\n",
        "# relative_lift_pct = (mde_absolute / baseline_conversion_rate) * 100\n",
        "\n",
        "print(f\"Relative lift: {relative_lift_pct:.1f}%\")\n"
      ]
    },
    {
      "cell_type": "markdown",
      "metadata": {},
      "source": [
        "## Sample Size Calculation\n",
        "\n",
        "Use the two-proportion z-test formula:\n",
        "\n",
        "```\n",
        "n = (z_α/2 + z_β)² × [p₁(1-p₁) + p₂(1-p₂)] / (p₂ - p₁)²\n",
        "```\n",
        "\n",
        "Where:\n",
        "- `z_α/2` = Critical value for two-tailed test\n",
        "- `z_β` = Critical value for power (one-tailed)\n",
        "- `p₁` = Baseline conversion rate\n",
        "- `p₂` = Treatment conversion rate = p₁ × (1 + lift%)\n"
      ]
    },
    {
      "cell_type": "code",
      "execution_count": null,
      "metadata": {},
      "outputs": [],
      "source": [
        "# Question 4: Sample size calculation\n",
        "alpha = None  # Fill in: Significance level from scenario (e.g., 0.05)\n",
        "power = None  # Fill in: Statistical power from scenario (e.g., 0.8)\n",
        "\n",
        "# Critical z-values (look these up in z-tables or use statistical software)\n",
        "z_alpha_over_2 = None  # Fill in: Critical z-value for α/2 (e.g., 1.96 for α=0.05)\n",
        "z_beta = None  # Fill in: Critical z-value for power (e.g., 0.841621 for 80% power)\n",
        "\n",
        "# Conversion rates\n",
        "p1 = baseline_conversion_rate  # Baseline rate\n",
        "p2 = None  # Calculate: p1 * (1 + relative_lift_pct/100)\n",
        "\n",
        "# Your calculations here:\n",
        "# p2 = p1 * (1 + relative_lift_pct/100)\n",
        "# n = ((z_alpha_over_2 + z_beta)**2 * (p1*(1-p1) + p2*(1-p2))) / ((p2 - p1)**2)\n",
        "n = None  # Fill in: Your calculated sample size per group\n",
        "\n",
        "print(f\"Alpha: {alpha}\")\n",
        "print(f\"Power: {power:.1%}\")\n",
        "print(f\"z_α/2: {z_alpha_over_2}\")\n",
        "print(f\"z_β: {z_beta}\")\n",
        "print(f\"p1 (baseline): {p1:.3f}\")\n",
        "print(f\"p2 (treatment): {p2:.3f}\")\n",
        "print(f\"Sample size per group: {n:,.0f}\")\n"
      ]
    },
    {
      "cell_type": "code",
      "execution_count": null,
      "metadata": {},
      "outputs": [],
      "source": [
        "# Question 5: Experiment duration\n",
        "daily_traffic = None  # Fill in: Expected daily traffic from scenario\n",
        "total_sample_size = None  # Calculate: n * 2 (both groups)\n",
        "duration_days = None  # Calculate: total_sample_size / daily_traffic\n",
        "\n",
        "# Your calculations here:\n",
        "# total_sample_size = n * 2\n",
        "# duration_days = total_sample_size / daily_traffic\n",
        "\n",
        "print(f\"Daily traffic: {daily_traffic:,}\")\n",
        "print(f\"Total sample size: {total_sample_size:,}\")\n",
        "print(f\"Duration: {duration_days:.1f} days\")\n"
      ]
    },
    {
      "cell_type": "code",
      "execution_count": null,
      "metadata": {},
      "outputs": [],
      "source": [
        "# Question 6: Business impact calculation\n",
        "additional_conversions_per_day = None  # Calculate: daily_traffic * mde_absolute\n",
        "\n",
        "# Your calculation here:\n",
        "# additional_conversions_per_day = daily_traffic * mde_absolute\n",
        "\n",
        "print(f\"Additional conversions per day: {additional_conversions_per_day:,.0f}\")\n"
      ]
    },
    {
      "cell_type": "markdown",
      "metadata": {},
      "source": [
        "## Summary\n",
        "\n",
        "Your experiment design:\n",
        "- **MDE**: [Your answer] percentage points\n",
        "- **Target conversion rate**: [Your answer]%\n",
        "- **Relative lift**: [Your answer]%\n",
        "- **Sample size per group**: [Your answer] users\n",
        "- **Experiment duration**: [Your answer] days\n",
        "- **Business impact**: [Your answer] additional conversions per day\n",
        "\n",
        "## Resources\n",
        "- [Evan Miller's Sample Size Calculator](https://www.evanmiller.org/ab-testing/sample-size.html)\n",
        "- [Z-table for critical values](https://www.z-table.com/)\n",
        "- [Statistical Power Calculator](https://www.stat.ubc.ca/~rollin/stats/ssize/b2.html)\n"
      ]
    },
    {
      "cell_type": "code",
      "execution_count": null,
      "metadata": {},
      "outputs": [],
      "source": []
    }
  ],
  "metadata": {
    "language_info": {
      "name": "python"
    }
  },
  "nbformat": 4,
  "nbformat_minor": 2
}
