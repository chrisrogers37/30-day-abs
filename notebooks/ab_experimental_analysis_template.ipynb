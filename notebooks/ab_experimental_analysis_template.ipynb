{
  "cells": [
    {
      "cell_type": "markdown",
      "metadata": {},
      "source": [
        "# A/B Test Experimental Analysis Framework\n",
        "\n",
        "This notebook provides a framework for analyzing experimental data from your A/B test.\n",
        "Use this template alongside the downloaded CSV data to work through the analysis questions.\n",
        "\n",
        "## Setup and Data Import\n",
        "First, let's import the necessary libraries and load the experimental data.\n"
      ]
    },
    {
      "cell_type": "code",
      "execution_count": null,
      "metadata": {},
      "outputs": [],
      "source": [
        "# Import necessary libraries\n",
        "import pandas as pd\n",
        "import numpy as np\n",
        "import matplotlib.pyplot as plt\n",
        "import seaborn as sns\n",
        "from scipy import stats\n",
        "\n",
        "# Set display options\n",
        "pd.set_option('display.max_columns', None)\n",
        "pd.set_option('display.width', None)\n",
        "\n",
        "print(\"Libraries imported successfully!\")\n"
      ]
    },
    {
      "cell_type": "code",
      "execution_count": null,
      "metadata": {},
      "outputs": [],
      "source": [
        "# Load the experimental data\n",
        "# Replace 'experiment_data.csv' with the actual filename you downloaded\n",
        "df = pd.read_csv('experiment_data.csv')\n",
        "\n",
        "print(f\"Data loaded successfully!\")\n",
        "print(f\"Dataset shape: {df.shape}\")\n",
        "print(f\"\\nColumn names: {list(df.columns)}\")\n"
      ]
    },
    {
      "cell_type": "code",
      "execution_count": null,
      "metadata": {},
      "outputs": [],
      "source": [
        "# Explore the data structure\n",
        "print(\"First 5 rows:\")\n",
        "print(df.head())\n",
        "\n",
        "print(\"\\nData types:\")\n",
        "print(df.dtypes)\n",
        "\n",
        "print(\"\\nBasic statistics:\")\n",
        "print(df.describe())\n"
      ]
    },
    {
      "cell_type": "markdown",
      "metadata": {},
      "source": [
        "## Data Overview\n",
        "Let's examine the experimental groups and overall conversion patterns.\n"
      ]
    },
    {
      "cell_type": "code",
      "execution_count": null,
      "metadata": {},
      "outputs": [],
      "source": [
        "# Check the distribution of users across groups\n",
        "print(\"Group distribution:\")\n",
        "print(df['group'].value_counts())\n",
        "\n",
        "print(\"\\nConversion distribution:\")\n",
        "print(df['converted'].value_counts())\n",
        "\n",
        "print(\"\\nConversion by group:\")\n",
        "print(pd.crosstab(df['group'], df['converted'], margins=True))\n"
      ]
    },
    {
      "cell_type": "markdown",
      "metadata": {},
      "source": [
        "## Question 1: Control Group Conversion Rate\n",
        "\n",
        "Calculate the conversion rate for the control group.\n",
        "**Formula**: Conversions ÷ Total Users in Control Group\n"
      ]
    },
    {
      "cell_type": "code",
      "execution_count": null,
      "metadata": {},
      "outputs": [],
      "source": [
        "# Filter control group data\n",
        "control_data = df[df['group'] == 'control']\n",
        "\n",
        "# Calculate control group metrics\n",
        "control_total_users = len(control_data)  # Total users in control group\n",
        "control_conversions = control_data['converted'].sum()  # Number of conversions in control group\n",
        "control_conversion_rate = control_conversions / control_total_users  # Calculate: conversions / total_users\n",
        "\n",
        "print(f\"Control Group Analysis:\")\n",
        "print(f\"Total users: {control_total_users:,}\")\n",
        "print(f\"Conversions: {control_conversions:,}\")\n",
        "print(f\"Conversion rate: {control_conversion_rate:.3%}\")\n",
        "print(f\"Conversion rate (as percentage): {control_conversion_rate * 100:.3f}%\")\n"
      ]
    },
    {
      "cell_type": "markdown",
      "metadata": {},
      "source": [
        "## Question 2: Treatment Group Conversion Rate\n",
        "\n",
        "Calculate the conversion rate for the treatment group.\n",
        "**Formula**: Conversions ÷ Total Users in Treatment Group\n"
      ]
    },
    {
      "cell_type": "code",
      "execution_count": null,
      "metadata": {},
      "outputs": [],
      "source": [
        "# Filter treatment group data\n",
        "treatment_data = df[df['group'] == 'treatment']\n",
        "\n",
        "# Calculate treatment group metrics\n",
        "treatment_total_users = len(treatment_data)  # Total users in treatment group\n",
        "treatment_conversions = treatment_data['converted'].sum()  # Number of conversions in treatment group\n",
        "treatment_conversion_rate = treatment_conversions / treatment_total_users  # Calculate: conversions / total_users\n",
        "\n",
        "print(f\"Treatment Group Analysis:\")\n",
        "print(f\"Total users: {treatment_total_users:,}\")\n",
        "print(f\"Conversions: {treatment_conversions:,}\")\n",
        "print(f\"Conversion rate: {treatment_conversion_rate:.3%}\")\n",
        "print(f\"Conversion rate (as percentage): {treatment_conversion_rate * 100:.3f}%\")\n"
      ]
    },
    {
      "cell_type": "markdown",
      "metadata": {},
      "source": [
        "## Question 3: Absolute Lift\n",
        "\n",
        "Calculate the absolute lift between treatment and control groups.\n",
        "**Formula**: Treatment Rate - Control Rate (in percentage points)\n"
      ]
    },
    {
      "cell_type": "code",
      "execution_count": null,
      "metadata": {},
      "outputs": [],
      "source": [
        "# Calculate the absolute lift\n",
        "absolute_lift = treatment_conversion_rate - control_conversion_rate  # Calculate: treatment_rate - control_rate\n",
        "\n",
        "print(f\"Absolute Lift Analysis:\")\n",
        "print(f\"Treatment rate: {treatment_conversion_rate:.3%}\")\n",
        "print(f\"Control rate: {control_conversion_rate:.3%}\")\n",
        "print(f\"Absolute lift: {absolute_lift:.3f}\")\n",
        "print(f\"Absolute lift (as percentage): {absolute_lift * 100:.3f} percentage points\")\n"
      ]
    },
    {
      "cell_type": "markdown",
      "metadata": {},
      "source": [
        "## Question 4: Relative Lift\n",
        "\n",
        "Calculate the relative lift between treatment and control groups.\n",
        "**Formula**: (Treatment Rate - Control Rate) ÷ Control Rate × 100\n"
      ]
    },
    {
      "cell_type": "code",
      "execution_count": null,
      "metadata": {},
      "outputs": [],
      "source": [
        "# Calculate the relative lift\n",
        "relative_lift = (treatment_conversion_rate - control_conversion_rate) / control_conversion_rate * 100  # Calculate: (treatment_rate - control_rate) / control_rate * 100\n",
        "\n",
        "print(f\"Relative Lift Analysis:\")\n",
        "print(f\"Treatment rate: {treatment_conversion_rate:.3%}\")\n",
        "print(f\"Control rate: {control_conversion_rate:.3%}\")\n",
        "print(f\"Relative lift: {relative_lift:.1f}%\")\n"
      ]
    },
    {
      "cell_type": "markdown",
      "metadata": {},
      "source": [
        "## Question 5: Statistical Significance (P-value)\n",
        "\n",
        "Perform a two-proportion z-test to determine if the difference is statistically significant.\n",
        "**Formula**: Two-proportion z-test p-value\n"
      ]
    },
    {
      "cell_type": "code",
      "execution_count": null,
      "metadata": {},
      "outputs": [],
      "source": [
        "# Perform two-proportion z-test\n",
        "from statsmodels.stats.proportion import proportions_ztest\n",
        "import numpy as np\n",
        "\n",
        "# Prepare data for the test\n",
        "successes = np.array([treatment_conversions, control_conversions])\n",
        "samples = np.array([treatment_total_users, control_total_users])\n",
        "\n",
        "# Perform the test\n",
        "z_stat, p_value = proportions_ztest(successes, samples)\n",
        "\n",
        "print(f\"Statistical Significance Analysis:\")\n",
        "print(f\"Z-statistic: {z_stat:.4f}\")\n",
        "print(f\"P-value: {p_value:.6f}\")\n",
        "print(f\"Significant at α=0.05? {'Yes' if p_value < 0.05 else 'No'}\")\n",
        "print(f\"Significant at α=0.01? {'Yes' if p_value < 0.01 else 'No'}\")\n"
      ]
    },
    {
      "cell_type": "markdown",
      "metadata": {},
      "source": [
        "## Question 6: Confidence Interval for Difference\n",
        "\n",
        "Calculate the 95% confidence interval for the difference between treatment and control groups.\n",
        "**Formula**: (p1 - p2) ± z_α/2 × SE(p1 - p2)\n"
      ]
    },
    {
      "cell_type": "code",
      "execution_count": null,
      "metadata": {},
      "outputs": [],
      "source": [
        "# Question 7: Rollout Decision\n",
        "# Based on confidence interval and business target\n",
        "\n",
        "# Business target (from experiment design)\n",
        "business_target_absolute = None  # Fill in: Business target absolute lift (e.g., 0.03 for 3%)\n",
        "business_target_relative = None  # Fill in: Business target relative lift (e.g., 0.20 for 20%)\n",
        "\n",
        "# Decision logic\n",
        "ci_lower, ci_upper = None, None  # Use your CI from Question 6\n",
        "\n",
        "if ci_lower is not None and ci_upper is not None and business_target_absolute is not None:\n",
        "    if ci_upper < business_target_absolute:\n",
        "        rollout_decision = \"do_not_proceed\"\n",
        "        reasoning = \"Upper bound is below business target - target not achievable\"\n",
        "    elif ci_lower >= business_target_absolute:\n",
        "        rollout_decision = \"proceed_with_confidence\"\n",
        "        reasoning = \"Lower bound is above business target - target very likely achievable\"\n",
        "    else:\n",
        "        rollout_decision = \"proceed_with_caution\"\n",
        "        reasoning = \"Target is within CI bounds - proceed with caution\"\n",
        "else:\n",
        "    rollout_decision = \"need_more_data\"\n",
        "    reasoning = \"Insufficient data for decision\"\n",
        "\n",
        "print(f\"Rollout Decision: {rollout_decision}\")\n",
        "print(f\"Reasoning: {reasoning}\")\n"
      ]
    },
    {
      "cell_type": "code",
      "execution_count": null,
      "metadata": {},
      "outputs": [],
      "source": [
        "# Calculate 95% confidence interval for the difference\n",
        "p1, p2 = treatment_conversion_rate, control_conversion_rate\n",
        "n1, n2 = treatment_total_users, control_total_users\n",
        "\n",
        "# Standard error of difference\n",
        "se_diff = np.sqrt(p1 * (1 - p1) / n1 + p2 * (1 - p2) / n2)\n",
        "\n",
        "# 95% CI for difference (z_0.025 = 1.96)\n",
        "diff = p1 - p2\n",
        "margin_error = 1.96 * se_diff\n",
        "ci_lower = (diff - margin_error) * 100  # Convert to percentage\n",
        "ci_upper = (diff + margin_error) * 100  # Convert to percentage\n",
        "\n",
        "print(f\"Confidence Interval Analysis:\")\n",
        "print(f\"Difference: {diff:.3%}\")\n",
        "print(f\"Standard Error: {se_diff:.6f}\")\n",
        "print(f\"Margin of Error: {margin_error * 100:.2f} percentage points\")\n",
        "print(f\"95% CI: [{ci_lower:.2f}%, {ci_upper:.2f}%]\")\n",
        "print(f\"CI includes zero? {'Yes' if ci_lower <= 0 <= ci_upper else 'No'}\")\n"
      ]
    },
    {
      "cell_type": "markdown",
      "metadata": {},
      "source": [
        "## Final Summary\n",
        "\n",
        "Your complete experimental analysis results:\n",
        "\n",
        "### Key Metrics\n",
        "- **Control conversion rate**: [Your answer]%\n",
        "- **Treatment conversion rate**: [Your answer]%\n",
        "- **Absolute lift**: [Your calculation] percentage points\n",
        "- **Relative lift**: [Your calculation]%\n",
        "\n",
        "### Statistical Analysis\n",
        "- **P-value**: [Your result]\n",
        "- **95% Confidence Interval**: [Your result]%\n",
        "- **Statistically significant**: [Yes/No]\n",
        "\n",
        "### Business Decision\n",
        "- **Business target lift**: [Your calculation]%\n",
        "- **Rollout recommendation**: [proceed_with_confidence/proceed_with_caution/do_not_proceed]\n",
        "- **Reasoning**: [Your explanation based on CI vs target]\n",
        "\n",
        "### Sample Sizes\n",
        "- **Control group**: [Your answer] users\n",
        "- **Treatment group**: [Your answer] users\n",
        "- **Total experiment size**: [Your calculation] users\n"
      ]
    },
    {
      "cell_type": "markdown",
      "metadata": {},
      "source": [
        "## Resources\n",
        "- [Two-proportion z-test explanation](https://stattrek.com/hypothesis-test/difference-in-proportions)\n",
        "- [Statistical significance calculator](https://www.evanmiller.org/ab-testing/chi-squared.html)\n",
        "- [Effect size interpretation](https://en.wikipedia.org/wiki/Effect_size)\n"
      ]
    }
  ],
  "metadata": {
    "language_info": {
      "name": "python"
    }
  },
  "nbformat": 4,
  "nbformat_minor": 2
}
